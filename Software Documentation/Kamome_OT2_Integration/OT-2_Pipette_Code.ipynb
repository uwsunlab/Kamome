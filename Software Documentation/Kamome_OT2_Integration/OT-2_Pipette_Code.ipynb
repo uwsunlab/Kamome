{
 "cells": [
  {
   "cell_type": "code",
   "execution_count": null,
   "metadata": {},
   "outputs": [],
   "source": [
    "import sys\n",
    "# Please download the Opentrons API and save into the same workspace\n",
    "from opentrons import protocol_api, execute, simulate\n",
    "from opentrons.types import Location, Point\n",
    "import pandas as pd\n",
    "import numpy as np\n",
    "import urllib.request\n",
    "import time\n",
    "import ast  # safer than eval\n",
    "#imports take roughly 1 minute"
   ]
  },
  {
   "cell_type": "markdown",
   "metadata": {},
   "source": [
    "# Before running the program, please setup a server connection for a shared .csv folder. \n",
    "\n",
    "After connecting the OT-2 to the same network/LAN,\n",
    "Run this in the terminal of the central computer: \n",
    "\n",
    "```\n",
    "cd: \"your protocol folder path\"\n",
    "python -m http.server 8000\n",
    "```\n",
    "\n",
    "This will open a sever to allow opentron to acess the file from: \n",
    "\n",
    "csv_path = \"http://your pc IP HERE:8000/volumes.csv\""
   ]
  },
  {
   "cell_type": "code",
   "execution_count": 7,
   "metadata": {},
   "outputs": [],
   "source": [
    "# example volume for red, yellow, blue, black pattern\n",
    "path = \"http://192.168.0.117:8000/Volumes96.csv\"\n",
    "df = pd.read_csv(path)\n",
    "df # Display volumes to verify"
   ]
  },
  {
   "cell_type": "markdown",
   "metadata": {},
   "source": [
    "# Define functions"
   ]
  },
  {
   "cell_type": "code",
   "execution_count": 8,
   "metadata": {},
   "outputs": [],
   "source": [
    "# metadata\n",
    "metadata = {\n",
    "    \"protocolName\": \"IMOD Protocol\",\n",
    "    \"author\": \"Clara Tamura, Austin Martin\",\n",
    "    \"description\": \"Mara OT-2 Protocol for IMOD project\",\n",
    "    \"apiLevel\": \"2.19\",\n",
    "}\n",
    "\n",
    "class OpentronMara:\n",
    "    def __init__(self, protocol):\n",
    "        self.protocol = protocol\n",
    "        self.protocol._commands.clear()\n",
    "\n",
    "        # Load tipracks\n",
    "        self.tiprack_300 = protocol.load_labware('opentrons_96_tiprack_300ul', '2')\n",
    "\n",
    "        # Load Pipettes\n",
    "        self.pip300 = protocol.load_instrument('p300_single_gen2', mount='right', tip_racks=[self.tiprack_300])\n",
    "\n",
    "        # Track used tips manually\n",
    "        self.tip_log = {\n",
    "            self.pip300: {'tips': self.tiprack_300.wells(), 'next': 0},\n",
    "        }\n",
    "\n",
    "        # Set pipette buffers\n",
    "        self.pip300_buffer = 20\n",
    "\n",
    "        self.pip300.flow_rate.aspirate = 50\n",
    "        self.pip300.flow_rate.dispense = 50\n",
    "        self.pip300.flow_rate.blow_out = 100\n",
    "\n",
    "        # Load plates\n",
    "        self.plate_96 = protocol.load_labware('opentrons_96_wellplate_200ul_pcr_full_skirt', '1')\n",
    "        self.plate_96.set_offset(x=0, y=0, z=55)  # Z lowered by 1 mm\n",
    "    \n",
    "        self.plate_6 = protocol.load_labware('corning_6_wellplate_16.8ml_flat','3')\n",
    "        self.plate_6.set_offset(x=0, y=0, z=10)\n",
    "        self.source_wells = ['A1', 'A2', 'B1', 'B2']\n",
    "\n",
    "        # Home the pipettes\n",
    "        self.pip300.home()\n",
    "\n",
    "        print(\"Initialization complete.\")\n",
    "\n",
    "    def pick_up_tip(self, pipette):\n",
    "        \"\"\"Pick up the next available tip for the given pipette, with rack limit check.\"\"\"\n",
    "        next_tip_index = self.tip_log[pipette]['next']\n",
    "        tips = self.tip_log[pipette]['tips']\n",
    "        \n",
    "        if next_tip_index >= len(tips):\n",
    "            raise RuntimeError(f\"❌ No more tips available for {pipette.name}. Tip rack is empty!\")\n",
    "\n",
    "        tip = tips[next_tip_index]\n",
    "        pipette.pick_up_tip(tip)\n",
    "        self.tip_log[pipette]['next'] += 1\n",
    "\n",
    "    def reset_tips(self, pipette=None):\n",
    "        if pipette:\n",
    "            self.tip_log[pipette]['next'] = 0\n",
    "        else:\n",
    "            for pip in self.tip_log:\n",
    "                self.tip_log[pip]['next'] = 0\n",
    "        \n",
    "    def distribute_colors(self, df_combined: pd.DataFrame, columns):\n",
    "        self.columns = columns\n",
    "        volumes_df = df_combined[self.columns].round(1)\n",
    "        num_samples, num_solutions = volumes_df.shape\n",
    "        well_names = df_combined['well']\n",
    "        print(well_names)\n",
    "        destination = [self.plate_96.wells_by_name()[well] for well in well_names]\n",
    "\n",
    "        \n",
    "        for i in range(num_solutions):\n",
    "            self.pip300.distribute(\n",
    "                volumes_df[self.columns[i]].to_list(),\n",
    "                self.plate_6.wells(self.source_wells[i])[0],\n",
    "                destination,\n",
    "                disposal_vol=0,\n",
    "                blow_out=True,\n",
    "                blowout_location='source well',\n",
    "                new_tip='once',\n",
    "                trash=False\n",
    "            )\n",
    "        self.reset_tips(self.pip300) # Reset the tip log for the pipette after use\n",
    "        #self.print_cmd()\n",
    "        \n",
    "        \n",
    "    def print_cmd(self):\n",
    "        print(\"Printing Opentron Commands:\")\n",
    "        for cmd in self.protocol.commands():\n",
    "            print(cmd)\n",
    "    \n",
    "    def clear_protocol(self):\n",
    "        self.protocol._commands.clear()\n",
    "\n",
    "\n"
   ]
  },
  {
   "cell_type": "markdown",
   "metadata": {},
   "source": [
    "# Initialize the OT-2\n",
    "This step will take 1-2 minutes"
   ]
  },
  {
   "cell_type": "code",
   "execution_count": 4,
   "metadata": {},
   "outputs": [],
   "source": [
    "protocol = execute.get_protocol_api('2.19') \n",
    "#protocol = simulate.get_protocol_api('2.19')  # Use simulate for testing\n",
    "robot = OpentronMara(protocol)"
   ]
  },
  {
   "cell_type": "markdown",
   "metadata": {},
   "source": [
    "# Execute pipetting command\n",
    "\n",
    "This will command OT-2 to pipette exact volumes in the specified locations. After completion, the pipette tip will stay in its last position. Running this command again without resetting the commands using commands.clear() will instruct the robot to pick up a new pipette tip below the last used tip. "
   ]
  },
  {
   "cell_type": "code",
   "execution_count": 13,
   "metadata": {},
   "outputs": [],
   "source": [
    "robot.distribute_colors(df, ['volC', 'volM', 'volY', 'volK'])  "
   ]
  },
  {
   "cell_type": "markdown",
   "metadata": {},
   "source": [
    "# If user interrupts the program, reset the robot"
   ]
  },
  {
   "cell_type": "code",
   "execution_count": 14,
   "metadata": {},
   "outputs": [],
   "source": [
    "robot.pip300.drop_tip()  # Ensure the pipette is not holding a tip before starting\n",
    "\n",
    "robot.protocol._commands.clear() # Clear the command queue\n",
    "robot.tiprack_300.reset()  # Reset the tip racks to ensure a clean state"
   ]
  },
  {
   "cell_type": "code",
   "execution_count": null,
   "metadata": {},
   "outputs": [],
   "source": [
    "robot.protocol.home()    # Home the robot if needed"
   ]
  }
 ],
 "metadata": {
  "kernelspec": {
   "display_name": "Python 3 (ipykernel)",
   "language": "python",
   "name": "python3"
  }
 },
 "nbformat": 4,
 "nbformat_minor": 2
}
