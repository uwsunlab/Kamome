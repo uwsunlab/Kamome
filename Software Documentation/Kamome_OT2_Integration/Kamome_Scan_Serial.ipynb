{
 "cells": [
  {
   "cell_type": "markdown",
   "id": "b32388c8",
   "metadata": {},
   "source": [
    "# Define plate dimensions and scan serial function"
   ]
  },
  {
   "cell_type": "code",
   "execution_count": 4,
   "id": "a3ce9b54",
   "metadata": {},
   "outputs": [],
   "source": [
    "import serial\n",
    "import time\n",
    "\n",
    "# Plate type definitions\n",
    "plate_types = {\n",
    "    \"Thinfilm\": {\n",
    "        \"offsetX\": 17.55, \"offsetY\": 14.55, \"colDist\": 30.95, \"rowDist\": 27.95, \"rows\": 3, \"cols\": 4\n",
    "    },\n",
    "    \"Corning_24\": {\n",
    "        \"offsetX\": 17.48, \"offsetY\": 13.80, \"colDist\": 19.30, \"rowDist\": 19.30, \"rows\": 4, \"cols\": 6\n",
    "    },\n",
    "    \"Corning_48\": {\n",
    "        \"offsetX\": 18.16, \"offsetY\": 10.12, \"colDist\": 13.08, \"rowDist\": 13.08, \"rows\": 6, \"cols\": 8\n",
    "    },\n",
    "    \"Corning_96\": {\n",
    "        \"offsetX\": 14.38, \"offsetY\": 11.23, \"colDist\": 9.00, \"rowDist\": 9.00, \"rows\": 8, \"cols\": 12\n",
    "    }\n",
    "    # Add more plate types as needed\n",
    "}\n",
    "\n",
    "def scan_select(port, plate_type_name, wait_interval, start_pos, end_pos):\n",
    "    if plate_type_name not in plate_types:\n",
    "        print(\"Invalid plate type selected.\")\n",
    "        return\n",
    "\n",
    "    plate_data = plate_types[plate_type_name]\n",
    "\n",
    "    # Format: offsetX,offsetY,colDist,rowDist,rows,cols,wait,startPos,endPos\n",
    "    command = f\"scan_select,{plate_data['offsetX']},{plate_data['offsetY']},{plate_data['colDist']},{plate_data['rowDist']},{plate_data['rows']},{plate_data['cols']},{wait_interval},{start_pos},{end_pos}\\n\"\n",
    "\n",
    "    ser = serial.Serial(port, 9600, timeout=2)\n",
    "    time.sleep(0.5)  # Allow Arduino to reset\n",
    "\n",
    "    ser.write(command.encode())\n",
    "\n",
    "    print(f\"Sent: {command.strip()}\")\n",
    "    print(\"Waiting for Arduino response:\")\n",
    "\n",
    "    while True:\n",
    "        line = ser.readline().decode().strip()\n",
    "        if line:\n",
    "            print(\"Arduino:\", line)\n",
    "        if \"Scan completed\" in line:\n",
    "            break\n",
    "\n",
    "    ser.close()\n"
   ]
  },
  {
   "cell_type": "markdown",
   "id": "a7d9bfa0",
   "metadata": {},
   "source": [
    "# Example call of scan_select function"
   ]
  },
  {
   "cell_type": "code",
   "execution_count": null,
   "id": "57f0f563",
   "metadata": {},
   "outputs": [],
   "source": [
    "scan_select('COM3', 'Corning_96', 1500, 'A4', 'D7') # (port, plate type, wait interval (ms), start well, end well)"
   ]
  }
 ],
 "metadata": {
  "kernelspec": {
   "display_name": "Python 3 (ipykernel)",
   "language": "python",
   "name": "python3"
  }
 },
 "nbformat": 4,
 "nbformat_minor": 5
}
