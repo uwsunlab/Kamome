{
 "cells": [
  {
   "cell_type": "code",
   "execution_count": null,
   "id": "bac9bcce",
   "metadata": {},
   "outputs": [
    {
     "name": "stdout",
     "output_type": "stream",
     "text": [
      "Collecting pyserial\n",
      "  Downloading pyserial-3.5-py2.py3-none-any.whl.metadata (1.6 kB)\n",
      "Downloading pyserial-3.5-py2.py3-none-any.whl (90 kB)\n",
      "Installing collected packages: pyserial\n",
      "Successfully installed pyserial-3.5\n",
      "Note: you may need to restart the kernel to use updated packages.\n"
     ]
    },
    {
     "name": "stderr",
     "output_type": "stream",
     "text": [
      "\n",
      "[notice] A new release of pip is available: 25.0.1 -> 25.1.1\n",
      "[notice] To update, run: python.exe -m pip install --upgrade pip\n"
     ]
    }
   ],
   "source": [
    "pip install pyserial"
   ]
  },
  {
   "cell_type": "markdown",
   "id": "daa53bdb",
   "metadata": {},
   "source": [
    "# Serial connection with Arduino for calibration"
   ]
  },
  {
   "cell_type": "code",
   "execution_count": null,
   "id": "c369f391",
   "metadata": {},
   "outputs": [
    {
     "name": "stdout",
     "output_type": "stream",
     "text": [
      "Sent: 500,4\n",
      "Arduino: OK\n",
      "Arduino: DONE\n"
     ]
    }
   ],
   "source": [
    "import serial\n",
    "import time\n",
    "\n",
    "def calibrate(port, interval, batches):\n",
    "    ser = serial.Serial(port, 9600, timeout=1)\n",
    "    time.sleep(2)  # wait for Arduino reset\n",
    "\n",
    "    command = f\"{interval},{batches}\\n\"\n",
    "    ser.write(command.encode())\n",
    "    print(f\"Sent: {command.strip()}\")\n",
    "\n",
    "    while True:\n",
    "        line = ser.readline().decode('utf-8').strip()\n",
    "        if line:\n",
    "            print(f\"Arduino: {line}\")\n",
    "            if line == \"Completed\":\n",
    "                break\n",
    "\n",
    "    ser.close()"
   ]
  },
  {
   "cell_type": "code",
   "execution_count": null,
   "id": "9ec541b9",
   "metadata": {},
   "outputs": [],
   "source": [
    "# Execute calibration\n",
    "# Replace 'COM3' with the correct port for your Arduino\n",
    "# Adjust interval and batches as needed\n",
    "calibrate(\"COM3\", interval=500, batches=4)"
   ]
  },
  {
   "cell_type": "code",
   "execution_count": null,
   "id": "c91a61f3",
   "metadata": {},
   "outputs": [],
   "source": []
  },
  {
   "cell_type": "markdown",
   "id": "b1924db1",
   "metadata": {},
   "source": [
    "# Scan command"
   ]
  },
  {
   "cell_type": "code",
   "execution_count": null,
   "id": "b29c22d5",
   "metadata": {},
   "outputs": [],
   "source": []
  },
  {
   "cell_type": "code",
   "execution_count": 7,
   "id": "598f3e2c",
   "metadata": {},
   "outputs": [],
   "source": [
    "import serial\n",
    "import time\n",
    "\n",
    "# Plate type definitions\n",
    "plate_types = {\n",
    "    \"Thinfilm\": {\n",
    "        \"offsetX\": 15.0, \"offsetY\": 15.0, \"colDist\": 30.95, \"rowDist\": 27.95, \"rows\": 3, \"cols\": 4\n",
    "    },\n",
    "    \"Corning_24\": {\n",
    "        \"offsetX\": 17.48, \"offsetY\": 13.80, \"colDist\": 19.30, \"rowDist\": 19.30, \"rows\": 4, \"cols\": 6\n",
    "    },\n",
    "    \"Corning_48\": {\n",
    "        \"offsetX\": 18.16, \"offsetY\": 10.12, \"colDist\": 13.08, \"rowDist\": 13.08, \"rows\": 6, \"cols\": 8\n",
    "    },\n",
    "    \"Corning_96\": {\n",
    "        \"offsetX\": 14.38, \"offsetY\": 11.23, \"colDist\": 9.00, \"rowDist\": 9.00, \"rows\": 8, \"cols\": 12\n",
    "    }\n",
    "    # Add more plate types as needed\n",
    "}\n",
    "\n",
    "def scan_plate(port, plate_type_name, wait_interval, start_pos, end_pos):\n",
    "    if plate_type_name not in plate_types:\n",
    "        print(\"Invalid plate type selected.\")\n",
    "        return\n",
    "\n",
    "    plate_data = plate_types[plate_type_name]\n",
    "\n",
    "    # Format: offsetX,offsetY,colDist,rowDist,rows,cols,wait,startPos,endPos\n",
    "    command = f\"scan_plate {plate_data['offsetX']},{plate_data['offsetY']},{plate_data['colDist']},{plate_data['rowDist']},{plate_data['rows']},{plate_data['cols']},{wait_interval},{start_pos},{end_pos}\\n\"\n",
    "\n",
    "    ser = serial.Serial(port, 9600, timeout=2)\n",
    "    time.sleep(2)  # Allow Arduino to reset\n",
    "\n",
    "    ser.write(command.encode())\n",
    "\n",
    "    print(f\"Sent: {command.strip()}\")\n",
    "    print(\"Waiting for Arduino response:\")\n",
    "\n",
    "    while True:\n",
    "        line = ser.readline().decode().strip()\n",
    "        if line:\n",
    "            print(\"Arduino:\", line)\n",
    "        if \"Scan completed\" in line:\n",
    "            break\n",
    "\n",
    "    ser.close()\n"
   ]
  },
  {
   "cell_type": "code",
   "execution_count": 10,
   "id": "a1fd4dbb",
   "metadata": {},
   "outputs": [
    {
     "name": "stdout",
     "output_type": "stream",
     "text": [
      "Sent: scan_plate 18.16,10.12,13.08,13.08,6,8,100,B1,C3\n",
      "Waiting for Arduino response:\n",
      "Arduino: Scan completed in 0 milliseconds.\n"
     ]
    }
   ],
   "source": [
    "# Execute scanning\n",
    "# Replace 'COM3' with the correct port for your Arduino\n",
    "# Adjust wait_interval, start_pos, and end_pos as needed\n",
    "# start_pos and end_pos should be in the format \"A1\", \"C3\", etc\n",
    "# They denote the top left and bottom right corners of the scanning area\n",
    "scan_plate(\"COM3\", \"Corning_48\", 100, \"B1\", \"C3\")"
   ]
  },
  {
   "cell_type": "code",
   "execution_count": null,
   "id": "ae27dd2b",
   "metadata": {},
   "outputs": [],
   "source": []
  }
 ],
 "metadata": {
  "kernelspec": {
   "display_name": "Python 3",
   "language": "python",
   "name": "python3"
  },
  "language_info": {
   "codemirror_mode": {
    "name": "ipython",
    "version": 3
   },
   "file_extension": ".py",
   "mimetype": "text/x-python",
   "name": "python",
   "nbconvert_exporter": "python",
   "pygments_lexer": "ipython3",
   "version": "3.13.0"
  }
 },
 "nbformat": 4,
 "nbformat_minor": 5
}
