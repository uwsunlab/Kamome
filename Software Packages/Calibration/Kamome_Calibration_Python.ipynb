{
 "cells": [
  {
   "cell_type": "code",
   "execution_count": null,
   "id": "bac9bcce",
   "metadata": {},
   "outputs": [
    {
     "name": "stdout",
     "output_type": "stream",
     "text": [
      "Collecting pyserial\n",
      "  Downloading pyserial-3.5-py2.py3-none-any.whl.metadata (1.6 kB)\n",
      "Downloading pyserial-3.5-py2.py3-none-any.whl (90 kB)\n",
      "Installing collected packages: pyserial\n",
      "Successfully installed pyserial-3.5\n",
      "Note: you may need to restart the kernel to use updated packages.\n"
     ]
    },
    {
     "name": "stderr",
     "output_type": "stream",
     "text": [
      "\n",
      "[notice] A new release of pip is available: 25.0.1 -> 25.1.1\n",
      "[notice] To update, run: python.exe -m pip install --upgrade pip\n"
     ]
    }
   ],
   "source": [
    "pip install pyserial"
   ]
  },
  {
   "cell_type": "markdown",
   "id": "daa53bdb",
   "metadata": {},
   "source": [
    "# Serial connection with Arduino for calibration"
   ]
  },
  {
   "cell_type": "code",
   "execution_count": 13,
   "id": "c369f391",
   "metadata": {},
   "outputs": [],
   "source": [
    "import serial\n",
    "import time\n",
    "\n",
    "def calibrate(port, interval, cycles):\n",
    "    ser = serial.Serial(port, 9600, timeout=1)\n",
    "    time.sleep(2)  # wait for Arduino reset\n",
    "\n",
    "    command = f\"{interval},{cycles}\\n\"\n",
    "    ser.write(command.encode())\n",
    "    print(f\"Sent: {command.strip()}\")\n",
    "\n",
    "    while True:\n",
    "        line = ser.readline().decode('utf-8').strip()\n",
    "        if line:\n",
    "            print(f\"Arduino: {line}\")\n",
    "            if line == \"Completed\":\n",
    "                break\n",
    "\n",
    "    ser.close()"
   ]
  },
  {
   "cell_type": "code",
   "execution_count": 15,
   "id": "9ec541b9",
   "metadata": {},
   "outputs": [
    {
     "name": "stdout",
     "output_type": "stream",
     "text": [
      "Sent: 500,2\n",
      "Arduino: Received\n",
      "Arduino: Completed\n"
     ]
    }
   ],
   "source": [
    "# Execute calibration\n",
    "# Replace 'COM3' with the correct port for your Arduino\n",
    "# Adjust interval and batches as needed\n",
    "calibrate(\"COM3\", interval=500, cycles=2)"
   ]
  },
  {
   "cell_type": "code",
   "execution_count": 10,
   "id": "a1fd4dbb",
   "metadata": {},
   "outputs": [
    {
     "name": "stdout",
     "output_type": "stream",
     "text": [
      "Sent: scan_plate 18.16,10.12,13.08,13.08,6,8,100,B1,C3\n",
      "Waiting for Arduino response:\n",
      "Arduino: Scan completed in 0 milliseconds.\n"
     ]
    }
   ],
   "source": [
    "# Execute scanning\n",
    "# Replace 'COM3' with the correct port for your Arduino\n",
    "# Adjust wait_interval, start_pos, and end_pos as needed\n",
    "# start_pos and end_pos should be in the format \"A1\", \"C3\", etc\n",
    "# They denote the top left and bottom right corners of the scanning area\n",
    "scan_plate(\"COM3\", \"Corning_48\", 100, \"B1\", \"C3\")"
   ]
  }
 ],
 "metadata": {
  "kernelspec": {
   "display_name": "Python 3",
   "language": "python",
   "name": "python3"
  },
  "language_info": {
   "codemirror_mode": {
    "name": "ipython",
    "version": 3
   },
   "file_extension": ".py",
   "mimetype": "text/x-python",
   "name": "python",
   "nbconvert_exporter": "python",
   "pygments_lexer": "ipython3",
   "version": "3.13.0"
  }
 },
 "nbformat": 4,
 "nbformat_minor": 5
}
